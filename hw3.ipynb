{
 "cells": [
  {
   "cell_type": "code",
   "execution_count": 65,
   "metadata": {
    "collapsed": false
   },
   "outputs": [],
   "source": [
    "import nb; reload(nb)\n",
    "import math"
   ]
  },
  {
   "cell_type": "code",
   "execution_count": 66,
   "metadata": {
    "collapsed": false
   },
   "outputs": [
    {
     "name": "stdout",
     "output_type": "stream",
     "text": [
      "Starting training with paths ./large_movie_review_dataset/train/pos and ./large_movie_review_dataset/train/neg\n",
      "REPORTING CORPUS STATISTICS\n",
      "NUMBER OF DOCUMENTS IN POSITIVE CLASS: 12500.0\n",
      "NUMBER OF DOCUMENTS IN NEGATIVE CLASS: 12500.0\n",
      "NUMBER OF TOKENS IN POSITIVE CLASS: 1875650.0\n",
      "NUMBER OF TOKENS IN NEGATIVE CLASS: 1861010.0\n",
      "VOCABULARY SIZE: NUMBER OF UNIQUE WORDTYPES IN TRAINING CORPUS: 252165\n"
     ]
    }
   ],
   "source": [
    "nb1 = nb.NaiveBayes()\n",
    "nb1.train_model()\n",
    "#nb1.train_model(num_docs=10)\n"
   ]
  },
  {
   "cell_type": "code",
   "execution_count": 50,
   "metadata": {
    "collapsed": false
   },
   "outputs": [
    {
     "name": "stdout",
     "output_type": "stream",
     "text": [
      "0.00022\n",
      "6e-05\n",
      "9e-05\n",
      "0.00038\n"
     ]
    }
   ],
   "source": [
    "print round(nb1.p_word_given_label('fantastic', nb.POS_LABEL), 5)\n",
    "print round(nb1.p_word_given_label('fantastic', nb.NEG_LABEL), 5)\n",
    "print round(nb1.p_word_given_label('boring', nb.POS_LABEL), 5)\n",
    "print round(nb1.p_word_given_label('boring', nb.NEG_LABEL), 5)"
   ]
  },
  {
   "cell_type": "code",
   "execution_count": 51,
   "metadata": {
    "collapsed": false
   },
   "outputs": [
    {
     "data": {
      "text/plain": [
       "1.0"
      ]
     },
     "execution_count": 51,
     "metadata": {},
     "output_type": "execute_result"
    }
   ],
   "source": [
    "nb1.class_word_counts[nb.POS_LABEL]['categorical']"
   ]
  },
  {
   "cell_type": "code",
   "execution_count": 52,
   "metadata": {
    "collapsed": false
   },
   "outputs": [
    {
     "data": {
      "text/plain": [
       "0.0"
      ]
     },
     "execution_count": 52,
     "metadata": {},
     "output_type": "execute_result"
    }
   ],
   "source": [
    "nb1.class_word_counts[nb.NEG_LABEL]['categorical']"
   ]
  },
  {
   "cell_type": "code",
   "execution_count": 78,
   "metadata": {
    "collapsed": false
   },
   "outputs": [
    {
     "name": "stdout",
     "output_type": "stream",
     "text": [
      "\"bolivarian\n"
     ]
    }
   ],
   "source": [
    "pos_words = nb1.class_word_counts[nb.POS_LABEL]\n",
    "neg_words = nb1.class_word_counts[nb.NEG_LABEL]\n",
    "for k, v in pos_words.items():\n",
    "    if k not in neg_words:\n",
    "        print k\n",
    "        break"
   ]
  },
  {
   "cell_type": "code",
   "execution_count": 79,
   "metadata": {
    "collapsed": false
   },
   "outputs": [
    {
     "name": "stdout",
     "output_type": "stream",
     "text": [
      "5.331e-07\n",
      "0.0\n"
     ]
    }
   ],
   "source": [
    "print round(nb1.p_word_given_label('categorical', nb.POS_LABEL), 10)\n",
    "print round(nb1.p_word_given_label('categorical', nb.NEG_LABEL), 10)"
   ]
  },
  {
   "cell_type": "code",
   "execution_count": 44,
   "metadata": {
    "collapsed": false
   },
   "outputs": [
    {
     "name": "stdout",
     "output_type": "stream",
     "text": [
      "0.0\n",
      "0.0\n",
      "0.0\n",
      "0.0\n",
      "0.0\n",
      "0.0\n",
      "0.0\n",
      "0.0\n"
     ]
    }
   ],
   "source": [
    "print round(nb1.p_word_given_label_and_psuedocount('\"Disappointing\"', nb.POS_LABEL, 0), 10)\n",
    "print round(nb1.p_word_given_label_and_psuedocount('\"Disappointing\"', nb.NEG_LABEL, 0), 10)\n",
    "print round(nb1.p_word_given_label_and_psuedocount('\"disappointing\"', nb.POS_LABEL, 0), 10)\n",
    "print round(nb1.p_word_given_label_and_psuedocount('\"disappointing\"', nb.NEG_LABEL, 0), 10)\n",
    "print round(nb1.p_word_given_label_and_psuedocount('Disappointing', nb.POS_LABEL, 0), 10)\n",
    "print round(nb1.p_word_given_label_and_psuedocount('Disappointing', nb.NEG_LABEL, 0), 10)\n",
    "print round(nb1.p_word_given_label_and_psuedocount('Disappointing,', nb.POS_LABEL, 0), 10)\n",
    "print round(nb1.p_word_given_label_and_psuedocount('Disappointing,', nb.NEG_LABEL, 0), 10)"
   ]
  },
  {
   "cell_type": "code",
   "execution_count": 81,
   "metadata": {
    "collapsed": false
   },
   "outputs": [
    {
     "data": {
      "text/plain": [
       "9.399313380157579e-07"
      ]
     },
     "execution_count": 81,
     "metadata": {},
     "output_type": "execute_result"
    }
   ],
   "source": [
    "nb1.p_word_given_label_and_psuedocount('categorical', nb.POS_LABEL, 1)"
   ]
  },
  {
   "cell_type": "code",
   "execution_count": 82,
   "metadata": {
    "collapsed": false
   },
   "outputs": [
    {
     "data": {
      "text/plain": [
       "-13.87745900901434"
      ]
     },
     "execution_count": 82,
     "metadata": {},
     "output_type": "execute_result"
    }
   ],
   "source": [
    "nb1.log_likelihood(['categorical'], nb.POS_LABEL, 1)"
   ]
  },
  {
   "cell_type": "code",
   "execution_count": 89,
   "metadata": {
    "collapsed": false
   },
   "outputs": [
    {
     "data": {
      "text/plain": [
       "25000.0"
      ]
     },
     "execution_count": 89,
     "metadata": {},
     "output_type": "execute_result"
    }
   ],
   "source": [
    "sum(nb1.class_total_doc_counts.values())"
   ]
  },
  {
   "cell_type": "code",
   "execution_count": 90,
   "metadata": {
    "collapsed": false
   },
   "outputs": [
    {
     "data": {
      "text/plain": [
       "-0.6931471805599453"
      ]
     },
     "execution_count": 90,
     "metadata": {},
     "output_type": "execute_result"
    }
   ],
   "source": [
    "nb1.log_prior(nb.NEG_LABEL)"
   ]
  },
  {
   "cell_type": "code",
   "execution_count": 97,
   "metadata": {
    "collapsed": false
   },
   "outputs": [
    {
     "data": {
      "text/plain": [
       "'pos'"
      ]
     },
     "execution_count": 97,
     "metadata": {},
     "output_type": "execute_result"
    }
   ],
   "source": [
    "nb1.classify(['this', 'is', 'fantastic'], 1)"
   ]
  },
  {
   "cell_type": "code",
   "execution_count": 98,
   "metadata": {
    "collapsed": false
   },
   "outputs": [
    {
     "data": {
      "text/plain": [
       "'neg'"
      ]
     },
     "execution_count": 98,
     "metadata": {},
     "output_type": "execute_result"
    }
   ],
   "source": [
    "nb1.classify(['this', 'is', 'boring'], 1)"
   ]
  },
  {
   "cell_type": "code",
   "execution_count": 99,
   "metadata": {
    "collapsed": false
   },
   "outputs": [
    {
     "data": {
      "text/plain": [
       "'neg'"
      ]
     },
     "execution_count": 99,
     "metadata": {},
     "output_type": "execute_result"
    }
   ],
   "source": [
    "nb1.classify(['this', 'is', 'fantastic', 'boring'], 1)"
   ]
  },
  {
   "cell_type": "code",
   "execution_count": null,
   "metadata": {
    "collapsed": true
   },
   "outputs": [],
   "source": [
    "nb1.classify(['this', 'is', 'fantastic'], 1)"
   ]
  },
  {
   "cell_type": "code",
   "execution_count": 127,
   "metadata": {
    "collapsed": false
   },
   "outputs": [
    {
     "data": {
      "text/plain": [
       "0.83536"
      ]
     },
     "execution_count": 127,
     "metadata": {},
     "output_type": "execute_result"
    }
   ],
   "source": [
    "nb1.evaluate_classifier_accuracy(1)"
   ]
  },
  {
   "cell_type": "code",
   "execution_count": 128,
   "metadata": {
    "collapsed": false
   },
   "outputs": [
    {
     "data": {
      "text/plain": [
       "-0.6931471805599453"
      ]
     },
     "execution_count": 128,
     "metadata": {},
     "output_type": "execute_result"
    }
   ],
   "source": [
    "nb1.log_prior('pos')"
   ]
  },
  {
   "cell_type": "code",
   "execution_count": 129,
   "metadata": {
    "collapsed": false
   },
   "outputs": [
    {
     "data": {
      "text/plain": [
       "-0.6931471805599453"
      ]
     },
     "execution_count": 129,
     "metadata": {},
     "output_type": "execute_result"
    }
   ],
   "source": [
    "nb1.log_prior('neg')"
   ]
  },
  {
   "cell_type": "code",
   "execution_count": 124,
   "metadata": {
    "collapsed": false
   },
   "outputs": [
    {
     "data": {
      "text/plain": [
       "0.5"
      ]
     },
     "execution_count": 124,
     "metadata": {},
     "output_type": "execute_result"
    }
   ],
   "source": [
    "math.exp(nb1.log_prior('pos'))"
   ]
  },
  {
   "cell_type": "code",
   "execution_count": 17,
   "metadata": {
    "collapsed": false
   },
   "outputs": [],
   "source": [
    "psuedocounts = [x * 0.5 for x in range(1, 21)]\n",
    "accuracies = []\n",
    "for c in psuedocounts:\n",
    "    accuracies.append(nb1.evaluate_classifier_accuracy(c))"
   ]
  },
  {
   "cell_type": "code",
   "execution_count": 29,
   "metadata": {
    "collapsed": false
   },
   "outputs": [
    {
     "data": {
      "image/png": "[encoded data removed]",
      "text/plain": [
       "<matplotlib.figure.Figure at 0x11327a210>"
      ]
     },
     "metadata": {},
     "output_type": "display_data"
    }
   ],
   "source": [
    "%matplotlib inline\n",
    "import matplotlib.pyplot as plt\n",
    "fig = plt.figure(figsize=(12,8))\n",
    "plt.plot(psuedocounts, accuracies)\n",
    "plt.xlabel('Psuedocount Parameter')\n",
    "plt.ylabel('Accuracy (%)')\n",
    "plt.title('Psuedocount Parameter vs. Accuracy Experiment')\n",
    "plt.xticks(psuedocounts)\n",
    "#plt.show()\n",
    "plt.savefig('psuedocount_vs_accuracy.pdf')"
   ]
  },
  {
   "cell_type": "code",
   "execution_count": 23,
   "metadata": {
    "collapsed": false
   },
   "outputs": [
    {
     "data": {
      "text/plain": [
       "4.5"
      ]
     },
     "execution_count": 23,
     "metadata": {},
     "output_type": "execute_result"
    }
   ],
   "source": [
    "max_index = accuracies.index(max(accuracies))\n",
    "psuedocounts[max_index]"
   ]
  },
  {
   "cell_type": "code",
   "execution_count": 60,
   "metadata": {
    "collapsed": false
   },
   "outputs": [
    {
     "name": "stdout",
     "output_type": "stream",
     "text": [
      "1.22624e-05\n",
      "3.97634e-05\n",
      "2.61243e-05\n",
      "0.0001053192\n",
      "1.01298e-05\n",
      "5.69583e-05\n",
      "4.2652e-06\n",
      "3.7614e-06\n",
      "1.8127e-05\n",
      "1.02095e-05\n",
      "9.0635e-06\n",
      "3.7614e-06\n",
      "8.85027e-05\n",
      "0.0001558294\n",
      "0.0020041052\n",
      "0.0009634553\n"
     ]
    }
   ],
   "source": [
    "print round(nb1.p_word_given_label('disappointing.', nb.POS_LABEL), 10)\n",
    "print round(nb1.p_word_given_label('disappointing.', nb.NEG_LABEL), 10)\n",
    "print round(nb1.p_word_given_label('disappointing', nb.POS_LABEL), 10)\n",
    "print round(nb1.p_word_given_label('disappointing', nb.NEG_LABEL), 10)\n",
    "print round(nb1.p_word_given_label('disappointment.', nb.POS_LABEL), 10)\n",
    "print round(nb1.p_word_given_label('disappointment.', nb.NEG_LABEL), 10)\n",
    "print round(nb1.p_word_given_label('disappointments', nb.POS_LABEL), 10)\n",
    "print round(nb1.p_word_given_label('disappointments', nb.NEG_LABEL), 10)\n",
    "print round(nb1.p_word_given_label('disappoint', nb.POS_LABEL), 10)\n",
    "print round(nb1.p_word_given_label('disappoint', nb.NEG_LABEL), 10)\n",
    "print round(nb1.p_word_given_label('disappoint.', nb.POS_LABEL), 10)\n",
    "print round(nb1.p_word_given_label('disappoint.', nb.NEG_LABEL), 10)\n",
    "print round(nb1.p_word_given_label('disappointed', nb.POS_LABEL), 10)\n",
    "print round(nb1.p_word_given_label('disappointed', nb.NEG_LABEL), 10)\n",
    "print round(nb1.p_word_given_label('great', nb.POS_LABEL), 10)\n",
    "print round(nb1.p_word_given_label('great', nb.NEG_LABEL), 10)"
   ]
  },
  {
   "cell_type": "code",
   "execution_count": 70,
   "metadata": {
    "collapsed": false
   },
   "outputs": [
    {
     "name": "stdout",
     "output_type": "stream",
     "text": [
      "3.634222229\n",
      "0.2513956625\n"
     ]
    }
   ],
   "source": [
    "print round(nb1.likelihood_ratio('fantastic', 4.5), 10)\n",
    "print round(nb1.likelihood_ratio('boring', 4.5), 10)"
   ]
  },
  {
   "cell_type": "code",
   "execution_count": 71,
   "metadata": {
    "collapsed": false
   },
   "outputs": [
    {
     "name": "stdout",
     "output_type": "stream",
     "text": [
      "0.9924898862\n",
      "0.9751391629\n"
     ]
    }
   ],
   "source": [
    "print round(nb1.likelihood_ratio('the', 4.5), 10)\n",
    "print round(nb1.likelihood_ratio('to', 4.5), 10)"
   ]
  },
  {
   "cell_type": "code",
   "execution_count": null,
   "metadata": {
    "collapsed": true
   },
   "outputs": [],
   "source": []
  }
 ],
 "metadata": {
  "kernelspec": {
   "display_name": "Python 2",
   "language": "python",
   "name": "python2"
  },
  "language_info": {
   "codemirror_mode": {
    "name": "ipython",
    "version": 2
   },
   "file_extension": ".py",
   "mimetype": "text/x-python",
   "name": "python",
   "nbconvert_exporter": "python",
   "pygments_lexer": "ipython2",
   "version": "2.7.12"
  }
 },
 "nbformat": 4,
 "nbformat_minor": 0
}

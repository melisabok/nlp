{
 "cells": [
  {
   "cell_type": "markdown",
   "metadata": {
    "slideshow": {
     "slide_type": "-"
    }
   },
   "source": [
    "# Homework 1: Word statistics"
   ]
  },
  {
   "cell_type": "markdown",
   "metadata": {},
   "source": [
    "This is due on **Friday, Sept 16 (11:59pm)**, submitted electronically.  100 points total.\n",
    "\n",
    "## How to do this problem set\n",
    "\n",
    "Most of these questions require writing Python code and computing results, and the rest of them have textual answers.  Write all the answers in this document.  Once you are finished, you will upload this `.ipynb` file to Moodle.\n",
    "\n",
    "A few tips as you develop code:\n",
    "* *Enter* to edit a cell and *Ctrl-Enter* to re-run a cell.  (see Help -> Keyboard Shortcuts)\n",
    "* When creating your final version of the problem set to hand in, please do a fresh restart with \"Kernel -> Reset\" and execute every cell in order.  Then you'll be sure your code doesn't rely on weird global variables you forgot about.  Make sure to press \"Save\"!"
   ]
  },
  {
   "cell_type": "markdown",
   "metadata": {
    "slideshow": {
     "slide_type": "-"
    }
   },
   "source": [
    "**Your Name:**  *Melisa Bok*\n",
    "\n",
    "**List collaborators:** *list here*\n",
    "\n",
    "(see our [grading and policies page](http://people.cs.umass.edu/~brenocon/inlp2016/grading.html) for details on our collaboration policy).\n"
   ]
  },
  {
   "cell_type": "markdown",
   "metadata": {
    "slideshow": {
     "slide_type": "-"
    }
   },
   "source": [
    "## Part (A): Download dataset and load text\n",
    "\n",
    "You'll be working with a sample of the [IMDB Large Movie Review Dataset](http://ai.stanford.edu/~amaas/data/sentiment/).\n",
    "\n",
    "[Here's the sample](http://people.cs.umass.edu/~brenocon/inlp2016/hw1/imdb_pos_sample.zip) for this assignment. It consists of 1126 positive reviews of movies.  Download it and unzip it somewhere and look at a few documents to be sure you know what you're getting.\n",
    "\n",
    "***A1: Load documents (10 points):***\n",
    "\n",
    "Load the documents into a dictionary as described below.  `os.listdir()` and `os.path.join()` may be helpful."
   ]
  },
  {
   "cell_type": "code",
   "execution_count": 38,
   "metadata": {
    "collapsed": false,
    "scrolled": true
   },
   "outputs": [
    {
     "name": "stdout",
     "output_type": "stream",
     "text": [
      "Number of documents loaded:  1136\n",
      "This is a complex film that explores the effects of Fordist and Taylorist modes of industrial capitalist production on human relations. There are constant references to assembly line production, where workers are treated as cogs in a machine, overseen by managers wielding clipboards, controlling how much hair the workers leave exposed, and firing workers (Stanley) who meet all criteria (as his supervisor says, are always on time, are hard workers, do good work) but who may in some unspecified fu\n"
     ]
    }
   ],
   "source": [
    "from __future__ import division\n",
    "import os,sys,re,math\n",
    "\n",
    "# This dictionary will hold all the documents.\n",
    "# Keys and values are intended to both be strings.\n",
    "#   Keys: the filename\n",
    "#   Values: the text content of the file\n",
    "\n",
    "fname2content = {}  # {filename: text of file}\n",
    "\n",
    "#-------------------Don't modify the code above-------------------------\n",
    "#-------------------Provide your answer below--------------------------\n",
    "file_dir = 'imdb_pos_sample'\n",
    "for file_name in os.listdir(file_dir):\n",
    "    with open(os.path.join(file_dir, file_name)) as f: \n",
    "        fname2content[file_name] = f.read()\n",
    "\n",
    "\n",
    "#-------------------Provide your answer above---------------------------\n",
    "#-------------------Don't modify the code below------------------------\n",
    "# or only minimally modify it in case your keys have a slightly different format\n",
    "print \"Number of documents loaded: \", len(fname2content)\n",
    "print fname2content[\"17_9.txt\"][:500]\n"
   ]
  },
  {
   "cell_type": "markdown",
   "metadata": {
    "slideshow": {
     "slide_type": "-"
    }
   },
   "source": [
    "You should see the output of above question is as following:\n",
    "\n",
    "*Number of documents loaded:  1136 <br>\n",
    "This is a complex film ...*"
   ]
  },
  {
   "cell_type": "markdown",
   "metadata": {
    "slideshow": {
     "slide_type": "-"
    }
   },
   "source": [
    "## Part (B): Tokenize and count words\n",
    "\n",
    "The goal of this part is to perform simple preprocessing on the raw text and count the words.\n",
    "\n",
    "***B1: Naive tokenization (10 points):***\n",
    "\n",
    "For now, assume tokens are based on whitespace.  Write code to calculate the total number of tokens -- this will have to iterate through documents and tokenize each of them."
   ]
  },
  {
   "cell_type": "code",
   "execution_count": 57,
   "metadata": {
    "collapsed": false
   },
   "outputs": [
    {
     "name": "stdout",
     "output_type": "stream",
     "text": [
      "Total Number of tokens:  264898\n"
     ]
    }
   ],
   "source": [
    "total_token_num=0\n",
    "\n",
    "#-------------------Don't modify the code above-------------------------\n",
    "#-------------------Provide your answer bellow--------------------------\n",
    "\n",
    "for k, v in fname2content.iteritems():\n",
    "    total_token_num += len(v.split())\n",
    "    \n",
    "#-------------------Provide your answer above---------------------------\n",
    "#-------------------Don't modify the code bellow------------------------\n",
    "\n",
    "print \"Total Number of tokens: \", total_token_num"
   ]
  },
  {
   "cell_type": "markdown",
   "metadata": {},
   "source": [
    "***B2: Better tokenization/normalization (10 points)***\n",
    "\n",
    "Please develop a better tokenizer and text normalizer yourself -- perhaps using regular expressions, as we discussed in class, and with case normalization.  A good way to experiment with tokenizers is to run them on very small examples, so try to improve the examples below.  (Once it works better on a small sample, you will run it on the larger corpus next.)  Show that your new tokenizer gives better results than a naive tokenizer on these two example texts."
   ]
  },
  {
   "cell_type": "code",
   "execution_count": 78,
   "metadata": {
    "collapsed": false
   },
   "outputs": [
    {
     "name": "stdout",
     "output_type": "stream",
     "text": [
      "Naive tokenizations\n",
      "['Hello,', 'we', 'are', 'good.']\n",
      "['OK...', \"I'll\", 'go', 'here,', 'ok?']\n",
      "Better tokenizations\n",
      "['hello', 'we', 'are', 'good']\n",
      "['ok', 'i', 'will', 'go', 'here', 'ok']\n"
     ]
    }
   ],
   "source": [
    "## --- keep this code ---\n",
    "examples = [\"Hello, we are good.\",  \"OK... I'll go here, ok?\"]\n",
    "\n",
    "print \"Naive tokenizations\"\n",
    "for example in examples:\n",
    "    print example.split()\n",
    "\n",
    "## --- modify code below ---\n",
    "def normalize(text):\n",
    "    return text.lower().replace(\"<br />\", \"\").replace(\"'ll\", \" will\").replace(\"n't\", \" not\")##Add contractions dictionary: https://en.wikipedia.org/wiki/Wikipedia:List_of_English_contractions\n",
    "\n",
    "def better_tokenizer(text):\n",
    "    regex = re.compile(r'\\w+|<br />+')\n",
    "    return regex.findall(normalize(text))\n",
    "\n",
    "print \"Better tokenizations\"\n",
    "for example in examples:\n",
    "    print better_tokenizer(example)"
   ]
  },
  {
   "cell_type": "code",
   "execution_count": 79,
   "metadata": {
    "collapsed": false
   },
   "outputs": [
    {
     "data": {
      "text/plain": [
       "['i', 'm', 'a', 'phd', 'student']"
      ]
     },
     "execution_count": 79,
     "metadata": {},
     "output_type": "execute_result"
    }
   ],
   "source": [
    "better_tokenizer(\"I'm a Phd. <br />student\")\n"
   ]
  },
  {
   "cell_type": "markdown",
   "metadata": {},
   "source": [
    "***B3: Word count (10 points):***\n",
    "\n",
    "Count words from the corpus into the variable `word_counts`, using your `better_tokenizer`.  We initialized the `word_counts` variable as a Python dict; feel free to use `defaultdict(lambda:0)` instead, which is slightly easier to use.  (In the future you may want to check out `Counter`, but please practice dict or defaultdict here.)\n",
    "\n",
    "Print out \n",
    "1. The vocabulary size.\n",
    "2. The top 10 most common terms.  \n",
    "  \n",
    "Important functions to make this easy include dict's `.items()`, list's `.sort()` (and/or standalone `sorted()`) and the `key=` parameter on sort."
   ]
  },
  {
   "cell_type": "code",
   "execution_count": 146,
   "metadata": {
    "collapsed": false
   },
   "outputs": [
    {
     "name": "stdout",
     "output_type": "stream",
     "text": [
      "Vocabulary size:  19142\n",
      "10 most common terms:  [('the', 15367), ('and', 8196), ('a', 7658), ('of', 6872), ('to', 5985), ('is', 5298), ('in', 4385), ('it', 4176), ('i', 3417), ('that', 3124)]\n"
     ]
    }
   ],
   "source": [
    "#-------------------Provide your answer below--------------------------\n",
    "word_counts = {}\n",
    "for k, v in fname2content.iteritems():\n",
    "    tokens = better_tokenizer(v)\n",
    "    for t in tokens:\n",
    "        if t not in word_counts:\n",
    "            word_counts[t] = 0\n",
    "        word_counts[t] += 1\n",
    "vocabulary = sorted(word_counts.items(), key=lambda x: x[1], reverse=True)\n",
    "print \"Vocabulary size: \", len(vocabulary)\n",
    "print \"10 most common terms: \", vocabulary[:10] "
   ]
  },
  {
   "cell_type": "markdown",
   "metadata": {},
   "source": [
    "## Part (C): Data visualization\n",
    "\n",
    "In this section, you will verify two key statistical properties of text: [Zipf's Law](https://en.wikipedia.org/wiki/Zipf%27s_law) and [Heaps' Law](http://en.wikipedia.org/wiki/Heaps'_law). You can check your results by comparing your plots to ones on Wikipedia; they should look qualitatively similar.\n",
    "\n",
    "***Question C1: Visualizing Zipf's Law (20 points):***\n",
    "\n",
    "Zipf's Law describes the relations between the frequency rank of words and frequency value of words.  For a word $w$, its frequency is inversely proportional to its rank:\n",
    "\n",
    "$$count_w = K \\frac{1}{rank_w}$$\n",
    "or in other words\n",
    "$$\\log(count_w) = K - \\log(rank_w)$$\n",
    "\n",
    "for some constant $K$, specific to the corpus and how words are being defined.\n",
    "\n",
    "Therefore, if Zipf's Law holds, after sorting the words descending on frequency, word frequency decreases in an approximately linear fashion under a log-log scale.\n",
    "\n",
    "Please make such a log-log plot by ploting the rank versus frequency.  Use a scatter plot where the x-axis is the *log(rank)*, and y-axis is log(frequency).  You should get this information from `word_counts`; for example, you can take the individual word counts and sort them.  dict methods `.items()` and/or `values()` may be useful.  (Note that it doesn't really matter whether ranks start at 1 or 0 in terms of how the plot comes out.)\n",
    "\n",
    "**Please remember to label the meaning of the x-axis and y-axis.**\n"
   ]
  },
  {
   "cell_type": "code",
   "execution_count": 210,
   "metadata": {
    "collapsed": false
   },
   "outputs": [
    {
     "data": {
      "text/plain": [
       "<matplotlib.text.Text at 0x119086410>"
      ]
     },
     "execution_count": 210,
     "metadata": {},
     "output_type": "execute_result"
    },
    {
     "data": {
      "image/png": "[encoded data removed]",
      "text/plain": [
       "<matplotlib.figure.Figure at 0x118c0cf90>"
      ]
     },
     "metadata": {},
     "output_type": "display_data"
    }
   ],
   "source": [
    "#-------------------Modify code below------------------\n",
    "# sample plotting code; feel free to delete\n",
    "import matplotlib.pyplot as plt\n",
    "%matplotlib inline\n",
    "fig = plt.figure(figsize=(10,10))\n",
    "ax = plt.gca()\n",
    "\n",
    "X = range(1, len(vocabulary) + 1)\n",
    "Y = [y[1] for y in vocabulary]\n",
    "\n",
    "ax.scatter(X, Y, linewidth=0.5)\n",
    "ax.set_yscale('log')\n",
    "ax.set_xscale('log')\n",
    "plt.xlabel(\"log(rank)\")\n",
    "plt.ylabel(\"log(frequency)\")"
   ]
  },
  {
   "cell_type": "markdown",
   "metadata": {},
   "source": [
    "***Question C2: Interpreting a Zipf plot (5 points):***\n",
    "\n",
    "You should see some discountinuities on the left and right sides of this figure.  Why are we seeing them on the left?  Why are we seeing them on the right?  On the right, what are those \"ledges\"?\n"
   ]
  },
  {
   "cell_type": "markdown",
   "metadata": {},
   "source": [
    "**ANSWER:**\n",
    "\n",
    "Left: first words of the ranking. High ranking and the big difference in the frequency with the rest of the words.\n",
    "Right: latest words, ledges because of the words that were not repeated or repeated few times. \n",
    "Next cell shows the repeated frequency for the less common words."
   ]
  },
  {
   "cell_type": "code",
   "execution_count": 207,
   "metadata": {
    "collapsed": false
   },
   "outputs": [
    {
     "name": "stdout",
     "output_type": "stream",
     "text": [
      "# words that have the same frequency\n",
      "Frequency 1:  8583\n",
      "Frequency 2:  3056\n",
      "Frequency 3:  1644\n",
      "Frequency 4:  999\n"
     ]
    }
   ],
   "source": [
    "from collections import Counter\n",
    "C = Counter(Y)\n",
    "print \"# words that have the same frequency\"\n",
    "for i in range(1,5):\n",
    "    print \"Frequency \" + str(i) + \": \", C[i]"
   ]
  },
  {
   "cell_type": "markdown",
   "metadata": {},
   "source": [
    "\n",
    "***Question C3: Visualizing Heaps' Law (20 points):***\n",
    "\n",
    "Heaps' Law asserts (in its most basic version) that the vocabulary size of a corpus is approximately proportional to the square root of the number of tokens in the corpus:\n",
    "\n",
    "$$ |V| = K \\sqrt{N_{tok}} $$\n",
    "\n",
    "where $K$ is a constant specific to the corpus.\n",
    "\n",
    "We will investigate this phenomenon empirically by iterating over our corpus.  Iterate over each document; for each, calculate the total number of tokens seen so far, and the total number of unique word types seen so far.  We would like to know how these two numbers relate to each other as we see more and more of the corpus.\n",
    "\n",
    "Create a plot with a curve (lineplot or scatterplot, whatever you think better) where the x-axis is number of tokens, and y-axis is the vocbulary size (so far).  **Make sure to label your axes.**"
   ]
  },
  {
   "cell_type": "code",
   "execution_count": null,
   "metadata": {
    "collapsed": false
   },
   "outputs": [],
   "source": [
    "#-------------------Provide your answer below--------------------------\n",
    "# one way to implement: maintain and update a set representing the vocabulary so far.\n",
    "seen_words=set()"
   ]
  },
  {
   "cell_type": "markdown",
   "metadata": {},
   "source": [
    "***C4 Heaps' Law: glass half empty (5 points):***\n",
    "\n",
    "Why is growth in the vocabulary slower than growth in number of tokens, and why does it get slower and slower?"
   ]
  },
  {
   "cell_type": "markdown",
   "metadata": {},
   "source": [
    "**ANSWER:**\n",
    "\n",
    "*answerme*"
   ]
  },
  {
   "cell_type": "markdown",
   "metadata": {},
   "source": [
    "***C5 Heaps' Law: glass half full (5 points):***\n",
    "\n",
    "Imagine you obtained millions and millions of documents and repeated this experiment.  How long would the vocabulary keep increasing?"
   ]
  },
  {
   "cell_type": "markdown",
   "metadata": {},
   "source": [
    "**ANSWER:**\n",
    "\n",
    "*answerme*"
   ]
  },
  {
   "cell_type": "markdown",
   "metadata": {},
   "source": [
    "***C6: Constants (5 points)***\n",
    "    \n",
    "Heaps' Law has a constant in it. Describe something, in either the data or the analysis method, that would affect this constant.  Explain why."
   ]
  },
  {
   "cell_type": "markdown",
   "metadata": {},
   "source": [
    "**ANSWER:**\n",
    "\n",
    "*answerme*"
   ]
  },
  {
   "cell_type": "code",
   "execution_count": 64,
   "metadata": {
    "collapsed": true
   },
   "outputs": [],
   "source": [
    "constractions = {\n",
    "\"amn't\":\"am not\",\n",
    "\"aren't\":\"are not\",\n",
    "\"can't\":\"cannot\",\n",
    "\"could've\":\"could have\",\n",
    "\"couldn't\":\"could not\",\n",
    "\"couldn't've\":\"could not have\",\n",
    "\"didn't\":\"did not\",\n",
    "\"doesn't\":\"does not\",\n",
    "\"don't\":\"do not\",\n",
    "\"gonna\":\"going to\",\n",
    "\"gotta\":\"got to / got a\",\n",
    "\"hadn't\":\"had not\",\n",
    "\"hadn't've\":\"he had not have\",\n",
    "\"hasn't\":\"has not\",\n",
    "\"hasn't've\":\"has not have\",\n",
    "\"haven't\":\"have not\",\n",
    "\"he'd\":\"he had / he would\",\n",
    "\"he'd'n't\":\"he had not / he would not\",\n",
    "\"he'd'n't've\":\"he had not have / he would not have\",\n",
    "\"he'd've\":\"he would have\",\n",
    "\"he'll\":\"he shall / he will\",\n",
    "\"he's\":\"he has / he is\",\n",
    "\"he'sn't\":\"he has not / he is not\",\n",
    "\"how'd\":\"how did / how would\",\n",
    "\"how'll\":\"how will\",\n",
    "\"how's\":\"how has / how is / how does\",\n",
    "\"I'd\":\"I had / I would\",\n",
    "\"I'd'n't\":\"I had not / I would not\",\n",
    "\"I'd'n't've\":\"I had not have / I would not have\",\n",
    "\"I'd've\":\"I would have\",\n",
    "\"I'll\":\"I shall / I will\",\n",
    "\"I'm\":\"I am\",\n",
    "\"I've\":\"I have\",\n",
    "\"I'ven't\":\"I have not\",\n",
    "\"isn't\":\"is not\",\n",
    "\"it'd\":\"it had / it would\",\n",
    "\"it'd'n't\":\"it had not / it would not\",\n",
    "\"it'd'n't've\":\"it had not have / it would not have\",\n",
    "\"it'd've\":\"it would have\",\n",
    "\"it'll\":\"it shall / it will\",\n",
    "\"it's\":\"it has / it is\",\n",
    "\"it'sn't\":\"it has not / it is not\",\n",
    "\"let's\":\"let us\",\n",
    "\"ma'am\":\"madam\",\n",
    "\"mightn't\":\"might not\",\n",
    "\"mightn't've\":\"might not have\",\n",
    "\"might've\":\"might have\",\n",
    "\"mustn't\":\"must not\",\n",
    "\"mustn't've\":\"must not have\",\n",
    "\"must've\":\"must have\",\n",
    "\"needn't\":\"need not\",\n",
    "\"not've\":\"not have\",\n",
    "\"o'clock\":\"of the clock\",\n",
    "\"ol'\":\"old\",\n",
    "\"oughtn't\":\"ought not\",\n",
    "\"oughtn't've\":\"ought not to have\",\n",
    "\"shan't\":\"shall not\",\n",
    "\"she'd\":\"she had / she would\",\n",
    "\"she'd'n't\":\"she had not / she would not\",\n",
    "\"she'd'n't've\":\"she had not have / she would not have\",\n",
    "\"she'd've\":\"she would have\",\n",
    "\"she'll\":\"she shall / she will\",\n",
    "\"she's\":\"she has / she is\",\n",
    "\"she'sn't\":\"she has not / she is not\",\n",
    "\"should've\":\"should have\",\n",
    "\"shouldn't\":\"should not\",\n",
    "\"shouldn't've\":\"should not have\",\n",
    "\"somebody'd\":\"somebody had / somebody would\",\n",
    "\"somebody'd'n't\":\"somebody had not / somebody would not\",\n",
    "\"somebody'd've\":\"somebody would have\",\n",
    "\"somebody'dn't've\":\"somebody had not have / somebody would not have\",\n",
    "\"somebody'll\":\"somebody shall / somebody will\",\n",
    "\"somebody's\":\"somebody has / somebody is\",\n",
    "\"someone'd\":\"someone had / someone would\",\n",
    "\"someone'd'n't\":\"someone had not / someone would not\",\n",
    "\"someone'd'n't've\":\"someone had not have / someone would not have\",\n",
    "\"someone'd've\":\"someone would have\",\n",
    "\"someone'll\":\"someone shall / someone will\",\n",
    "\"someone's\":\"someone has / someone is\",\n",
    "\"something'd\":\"something had / something would\",\n",
    "\"something'd'n't\":\"something had not / something would not\",\n",
    "\"something'd'n't've\":\"something had not have / something would not have\",\n",
    "\"something'd've\":\"something would have\",\n",
    "\"something'll\":\"something shall / something will\",\n",
    "\"something's\":\"something has / something is\",\n",
    "\"'sup\":\"what's up\",\n",
    "\"that'll\":\"that will\",\n",
    "\"that's\":\"that has / that is\",\n",
    "\"that'd\":\"that would / that had\",\n",
    "\"there'd\":\"there had / there would\",\n",
    "\"there'd'n't\":\"there had not / there would not\",\n",
    "\"there'd'n't've\":\"there had not have / there would not have\",\n",
    "\"there'd've\":\"there would have\",\n",
    "\"there're\":\"there are\",\n",
    "\"there's\":\"there has / there is\",\n",
    "\"they'd\":\"they had / they would\",\n",
    "\"they'dn't\":\"they had not / they would not\",\n",
    "\"they'dn't've\":\"they had not have / they would not have\",\n",
    "\"they'd've\":\"they would have\",\n",
    "\"they'd'ven't\":\"they would have not\",\n",
    "\"they'll\":\"they shall / they will\",\n",
    "\"they'lln't've\":\"they will not have\",\n",
    "\"they'll'ven't\":\"they will have not\",\n",
    "\"they're\":\"they are\",\n",
    "\"they've\":\"they have\",\n",
    "\"they'ven't\":\"they have not\",\n",
    "\"'tis\":\"it is\",\n",
    "\"'twas\":\"it was\",\n",
    "\"wanna\":\"want to\",\n",
    "\"wasn't\":\"was not\",\n",
    "\"we'd\":\"we had / we would\",\n",
    "\"we'd've\":\"we would have\",\n",
    "\"we'd'n't\":\"we had not / we would not\",\n",
    "\"we'dn't've\":\"we had not have / we would not have\",\n",
    "\"we'll\":\"we will\",\n",
    "\"we'lln't've\":\"we will not have\",\n",
    "\"we're\":\"we are\",\n",
    "\"we've\":\"we have\",\n",
    "\"weren't\":\"were not\",\n",
    "\"what'd\":\"what did\",\n",
    "\"what'll\":\"what shall / what will\",\n",
    "\"what're\":\"what are\",\n",
    "\"what's\":\"what has / what is / what does\",\n",
    "\"what've\":\"what have\",\n",
    "\"when's\":\"when has / when is\",\n",
    "\"where'd\":\"where did\",\n",
    "\"where's\":\"where has / where is / where does\",\n",
    "\"where've\":\"where have\",\n",
    "\"who'd\":\"who would / who had / who did\",\n",
    "\"who'd've\":\"who would have\",\n",
    "\"who'll\":\"who shall / who will\",\n",
    "\"who're\":\"who are\",\n",
    "\"who's\":\"who has / who is / who does\",\n",
    "\"who've\":\"who have\",\n",
    "\"why'd\":\"why did\",\n",
    "\"why'll\":\"why will\",\n",
    "\"why're\":\"why are\",\n",
    "\"why's\":\"why has / why is / why does\",\n",
    "\"won't\":\"will not\",\n",
    "\"won't've\":\"will not have\",\n",
    "\"would've\":\"would have\",\n",
    "\"wouldn't\":\"would not\",\n",
    "\"wouldn't've\":\"would not have\",\n",
    "\"y'all / ya'll\":\"you all, literally\",\n",
    "\"y'all'd've\":\"you all would have\",\n",
    "\"y'all'dn't've\":\"you all would not have\",\n",
    "\"y'all'll\":\"you all will\",\n",
    "\"y'all'on't\":\"you all will not\",\n",
    "\"y'all'll've\":\"you all will have\",\n",
    "\"y'all're\":\"you all are\",\n",
    "\"y'all'll'ven't\":\"you all will have not\",\n",
    "\"you'd\":\"you had / you would\",\n",
    "\"you'd've\":\"you would have\",\n",
    "\"you'll\":\"you shall / you will\",\n",
    "\"you're\":\"you are\",\n",
    "\"you'ren't\":\"you are not\",\n",
    "\"you've\":\"you have\",\n",
    "\"you'ven't\":\"you have not\"\n",
    "}"
   ]
  },
  {
   "cell_type": "code",
   "execution_count": 65,
   "metadata": {
    "collapsed": false
   },
   "outputs": [
    {
     "data": {
      "text/plain": [
       "{\"'sup\": \"what's up\",\n",
       " \"'tis\": 'it is',\n",
       " \"'twas\": 'it was',\n",
       " \"I'd\": 'I had / I would',\n",
       " \"I'd'n't\": 'I had not / I would not',\n",
       " \"I'd'n't've\": 'I had not have / I would not have',\n",
       " \"I'd've\": 'I would have',\n",
       " \"I'll\": 'I shall / I will',\n",
       " \"I'm\": 'I am',\n",
       " \"I've\": 'I have',\n",
       " \"I'ven't\": 'I have not',\n",
       " \"amn't\": 'am not',\n",
       " \"aren't\": 'are not',\n",
       " \"can't\": 'cannot',\n",
       " \"could've\": 'could have',\n",
       " \"couldn't\": 'could not',\n",
       " \"couldn't've\": 'could not have',\n",
       " \"didn't\": 'did not',\n",
       " \"doesn't\": 'does not',\n",
       " \"don't\": 'do not',\n",
       " 'gonna': 'going to',\n",
       " 'gotta': 'got to / got a',\n",
       " \"hadn't\": 'had not',\n",
       " \"hadn't've\": 'he had not have',\n",
       " \"hasn't\": 'has not',\n",
       " \"hasn't've\": 'has not have',\n",
       " \"haven't\": 'have not',\n",
       " \"he'd\": 'he had / he would',\n",
       " \"he'd'n't\": 'he had not / he would not',\n",
       " \"he'd'n't've\": 'he had not have / he would not have',\n",
       " \"he'd've\": 'he would have',\n",
       " \"he'll\": 'he shall / he will',\n",
       " \"he's\": 'he has / he is',\n",
       " \"he'sn't\": 'he has not / he is not',\n",
       " \"how'd\": 'how did / how would',\n",
       " \"how'll\": 'how will',\n",
       " \"how's\": 'how has / how is / how does',\n",
       " \"isn't\": 'is not',\n",
       " \"it'd\": 'it had / it would',\n",
       " \"it'd'n't\": 'it had not / it would not',\n",
       " \"it'd'n't've\": 'it had not have / it would not have',\n",
       " \"it'd've\": 'it would have',\n",
       " \"it'll\": 'it shall / it will',\n",
       " \"it's\": 'it has / it is',\n",
       " \"it'sn't\": 'it has not / it is not',\n",
       " \"let's\": 'let us',\n",
       " \"ma'am\": 'madam',\n",
       " \"might've\": 'might have',\n",
       " \"mightn't\": 'might not',\n",
       " \"mightn't've\": 'might not have',\n",
       " \"must've\": 'must have',\n",
       " \"mustn't\": 'must not',\n",
       " \"mustn't've\": 'must not have',\n",
       " \"needn't\": 'need not',\n",
       " \"not've\": 'not have',\n",
       " \"o'clock\": 'of the clock',\n",
       " \"ol'\": 'old',\n",
       " \"oughtn't\": 'ought not',\n",
       " \"oughtn't've\": 'ought not to have',\n",
       " \"shan't\": 'shall not',\n",
       " \"she'd\": 'she had / she would',\n",
       " \"she'd'n't\": 'she had not / she would not',\n",
       " \"she'd'n't've\": 'she had not have / she would not have',\n",
       " \"she'd've\": 'she would have',\n",
       " \"she'll\": 'she shall / she will',\n",
       " \"she's\": 'she has / she is',\n",
       " \"she'sn't\": 'she has not / she is not',\n",
       " \"should've\": 'should have',\n",
       " \"shouldn't\": 'should not',\n",
       " \"shouldn't've\": 'should not have',\n",
       " \"somebody'd\": 'somebody had / somebody would',\n",
       " \"somebody'd'n't\": 'somebody had not / somebody would not',\n",
       " \"somebody'd've\": 'somebody would have',\n",
       " \"somebody'dn't've\": 'somebody had not have / somebody would not have',\n",
       " \"somebody'll\": 'somebody shall / somebody will',\n",
       " \"somebody's\": 'somebody has / somebody is',\n",
       " \"someone'd\": 'someone had / someone would',\n",
       " \"someone'd'n't\": 'someone had not / someone would not',\n",
       " \"someone'd'n't've\": 'someone had not have / someone would not have',\n",
       " \"someone'd've\": 'someone would have',\n",
       " \"someone'll\": 'someone shall / someone will',\n",
       " \"someone's\": 'someone has / someone is',\n",
       " \"something'd\": 'something had / something would',\n",
       " \"something'd'n't\": 'something had not / something would not',\n",
       " \"something'd'n't've\": 'something had not have / something would not have',\n",
       " \"something'd've\": 'something would have',\n",
       " \"something'll\": 'something shall / something will',\n",
       " \"something's\": 'something has / something is',\n",
       " \"that'd\": 'that would / that had',\n",
       " \"that'll\": 'that will',\n",
       " \"that's\": 'that has / that is',\n",
       " \"there'd\": 'there had / there would',\n",
       " \"there'd'n't\": 'there had not / there would not',\n",
       " \"there'd'n't've\": 'there had not have / there would not have',\n",
       " \"there'd've\": 'there would have',\n",
       " \"there're\": 'there are',\n",
       " \"there's\": 'there has / there is',\n",
       " \"they'd\": 'they had / they would',\n",
       " \"they'd've\": 'they would have',\n",
       " \"they'd'ven't\": 'they would have not',\n",
       " \"they'dn't\": 'they had not / they would not',\n",
       " \"they'dn't've\": 'they had not have / they would not have',\n",
       " \"they'll\": 'they shall / they will',\n",
       " \"they'll'ven't\": 'they will have not',\n",
       " \"they'lln't've\": 'they will not have',\n",
       " \"they're\": 'they are',\n",
       " \"they've\": 'they have',\n",
       " \"they'ven't\": 'they have not',\n",
       " 'wanna': 'want to',\n",
       " \"wasn't\": 'was not',\n",
       " \"we'd\": 'we had / we would',\n",
       " \"we'd'n't\": 'we had not / we would not',\n",
       " \"we'd've\": 'we would have',\n",
       " \"we'dn't've\": 'we had not have / we would not have',\n",
       " \"we'll\": 'we will',\n",
       " \"we'lln't've\": 'we will not have',\n",
       " \"we're\": 'we are',\n",
       " \"we've\": 'we have',\n",
       " \"weren't\": 'were not',\n",
       " \"what'd\": 'what did',\n",
       " \"what'll\": 'what shall / what will',\n",
       " \"what're\": 'what are',\n",
       " \"what's\": 'what has / what is / what does',\n",
       " \"what've\": 'what have',\n",
       " \"when's\": 'when has / when is',\n",
       " \"where'd\": 'where did',\n",
       " \"where's\": 'where has / where is / where does',\n",
       " \"where've\": 'where have',\n",
       " \"who'd\": 'who would / who had / who did',\n",
       " \"who'd've\": 'who would have',\n",
       " \"who'll\": 'who shall / who will',\n",
       " \"who're\": 'who are',\n",
       " \"who's\": 'who has / who is / who does',\n",
       " \"who've\": 'who have',\n",
       " \"why'd\": 'why did',\n",
       " \"why'll\": 'why will',\n",
       " \"why're\": 'why are',\n",
       " \"why's\": 'why has / why is / why does',\n",
       " \"won't\": 'will not',\n",
       " \"won't've\": 'will not have',\n",
       " \"would've\": 'would have',\n",
       " \"wouldn't\": 'would not',\n",
       " \"wouldn't've\": 'would not have',\n",
       " \"y'all / ya'll\": 'you all, literally',\n",
       " \"y'all'd've\": 'you all would have',\n",
       " \"y'all'dn't've\": 'you all would not have',\n",
       " \"y'all'll\": 'you all will',\n",
       " \"y'all'll've\": 'you all will have',\n",
       " \"y'all'll'ven't\": 'you all will have not',\n",
       " \"y'all'on't\": 'you all will not',\n",
       " \"y'all're\": 'you all are',\n",
       " \"you'd\": 'you had / you would',\n",
       " \"you'd've\": 'you would have',\n",
       " \"you'll\": 'you shall / you will',\n",
       " \"you're\": 'you are',\n",
       " \"you'ren't\": 'you are not',\n",
       " \"you've\": 'you have',\n",
       " \"you'ven't\": 'you have not'}"
      ]
     },
     "execution_count": 65,
     "metadata": {},
     "output_type": "execute_result"
    }
   ],
   "source": [
    "constractions"
   ]
  },
  {
   "cell_type": "code",
   "execution_count": null,
   "metadata": {
    "collapsed": true
   },
   "outputs": [],
   "source": []
  }
 ],
 "metadata": {
  "anaconda-cloud": {},
  "celltoolbar": "Slideshow",
  "kernelspec": {
   "display_name": "Python 2",
   "language": "python",
   "name": "python2"
  },
  "language_info": {
   "codemirror_mode": {
    "name": "ipython",
    "version": 2
   },
   "file_extension": ".py",
   "mimetype": "text/x-python",
   "name": "python",
   "nbconvert_exporter": "python",
   "pygments_lexer": "ipython2",
   "version": "2.7.12"
  }
 },
 "nbformat": 4,
 "nbformat_minor": 0
}
